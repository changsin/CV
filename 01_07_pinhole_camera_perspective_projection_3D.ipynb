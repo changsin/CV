{
  "nbformat": 4,
  "nbformat_minor": 0,
  "metadata": {
    "colab": {
      "provenance": [],
      "authorship_tag": "ABX9TyPFYbtMdp55lsKwANlMaJMa",
      "include_colab_link": true
    },
    "kernelspec": {
      "name": "python3",
      "display_name": "Python 3"
    },
    "language_info": {
      "name": "python"
    }
  },
  "cells": [
    {
      "cell_type": "markdown",
      "metadata": {
        "id": "view-in-github",
        "colab_type": "text"
      },
      "source": [
        "<a href=\"https://colab.research.google.com/github/changsin/CV/blob/main/01_07_pinhole_camera_perspective_projection_3D.ipynb\" target=\"_parent\"><img src=\"https://colab.research.google.com/assets/colab-badge.svg\" alt=\"Open In Colab\"/></a>"
      ]
    },
    {
      "cell_type": "markdown",
      "source": [
        "# Introduction to Computer Vision\n",
        "\n",
        "The following are exercises done for Hany Faird's [Computer Vision course](https://youtube.com/playlist?list=PLhwIOYE-ldwL6h-peJADfNm8bbO3GlKEy&si=sXmtTvaJDQb6QD20)"
      ],
      "metadata": {
        "id": "x8l5n-p5oYd1"
      }
    },
    {
      "cell_type": "markdown",
      "source": [
        "##01-07 [Image Formation: pinhole camera: perspective projection, 3-D](https://youtu.be/TilwFc9bTQA?si=zI88yXegsP1_MxbU).\n",
        "\n",
        "Write some code that simulates the projection of a d-D cube under perspective projection. The eight corners of the cube are:\n",
        "\n",
        "$\n",
        "[0,0,0],[1,0,0],[1,1,0],[0,1,0],[0,0,1],[1,0,1],[1,1,1],[0,1,1]\n",
        "$\n",
        "\n",
        "$\n",
        "\\begin{bmatrix}\n",
        "0 & 0 & 0 \\\\\n",
        "1 & 0 & 0 \\\\\n",
        "1 & 1 & 0 \\\\\n",
        "0 & 1 & 0 \\\\\n",
        "0 & 0 & 1 \\\\\n",
        "1 & 0 & 1 \\\\\n",
        "1 & 1 & 1 \\\\\n",
        "0 & 1 & 1 \\\\\n",
        "\\end{bmatrix}\n",
        "$\n",
        "\n",
        "Specify the translation and rotation around the x-, y-, and z-axis and build the 3x4 extrinsic matrix M. Specify the focal length and camera center, and build the 3x3 intrinsic matirix K.\n",
        "Project under perspective projection using the projection matrix formulation:\n",
        "\n",
        "$\n",
        "\\begin{bmatrix}\n",
        "x_s \\\\\n",
        "y_x \\\\\n",
        "S \\\\\n",
        "\\end{bmatrix}\n",
        "$\n",
        "=\n",
        "$\n",
        "\\lambda\n",
        "\\begin{bmatrix}\n",
        "f & 0 & c_x \\\\\n",
        "0 & f & c_y \\\\\n",
        "0 & 0 & 1 \\\\\n",
        "\\end{bmatrix}\n",
        "$\n",
        "$\n",
        "\\begin{bmatrix}\n",
        "r_{11} & r_{21} & r_{31} & t_X \\\\\n",
        "r_{12} & r_{22} & r_{32} & t_Y \\\\\n",
        "r_{13} & r_{23} & r_{33} & t_Z \\\\\n",
        "\\end{bmatrix}\n",
        "$\n",
        "$\n",
        "\\begin{bmatrix}\n",
        "X_w \\\\\n",
        "Y_w \\\\\n",
        "Z_w \\\\\n",
        "1 \\\\\n",
        "\\end{bmatrix}\n",
        "$\n",
        "\n",
        "$\n",
        "\\vec{p} = \\lambda K M \\vec{P}\n",
        "$\n",
        "\n",
        "$\n",
        "R\n",
        "$\n",
        "=\n",
        "$\n",
        "\\begin{bmatrix}\n",
        "1 & 0 & 0 \\\\\n",
        "0 & cos(\\theta_x) & -sin(\\theta_x) \\\\\n",
        "0 & sin(\\theta_x) & cos(\\theta_x) \\\\\n",
        "\\end{bmatrix}\n",
        "$\n",
        "$\n",
        "\\begin{bmatrix}\n",
        "cos(\\theta_y) & 0 & sin(\\theta_y) \\\\\n",
        "0 & 1 & 0 \\\\\n",
        "-sin(\\theta_y) & 0 & cos(\\theta_y) \\\\\n",
        "\\end{bmatrix}\n",
        "$\n",
        "$\n",
        "\\begin{bmatrix}\n",
        "cos(\\theta_z) & -sin(\\theta_z) & 0 \\\\\n",
        "sin(\\theta_z) & cos(\\theta_z) & 0 \\\\\n",
        "0 & 0 & 1 \\\\\n",
        "\\end{bmatrix}\n",
        "$"
      ],
      "metadata": {
        "id": "0IfcOP2LtZlA"
      }
    },
    {
      "cell_type": "code",
      "source": [
        "# prompt: Calculate the perspective projection length of two points pt1 and pt2 as a function of Z: Use the two points pt1=(-5, Z) pt2=(5, Z). The formula is x = - X/Z\n",
        "\n",
        "def get_perspective_projection_length(pt1, pt2):\n",
        "  \"\"\"\n",
        "  Calculate the perspective projection length of two points pt1 and pt2 as a function of Z.\n",
        "  The formula is x = - X/Z.\n",
        "\n",
        "  Args:\n",
        "    pt1: A tuple representing the first point (x, z).\n",
        "    pt2: A tuple representing the second point (x, z).\n",
        "\n",
        "  Returns:\n",
        "    The perspective projection length.\n",
        "  \"\"\"\n",
        "  x1, z1 = pt1\n",
        "  x2, z2 = pt2\n",
        "\n",
        "  x1_projected = -x1 / z1\n",
        "  x2_projected = -x2 / z2\n",
        "\n",
        "  return abs(x2_projected - x1_projected)\n",
        "\n",
        "\n",
        "# Example usage\n",
        "pt1 = (-5, 10)  # x, z\n",
        "pt2 = (5, 10)  # x, z\n",
        "\n",
        "length = get_perspective_projection_length(pt1, pt2)\n",
        "print(f\"Perspective projection length: {length}\")"
      ],
      "metadata": {
        "colab": {
          "base_uri": "https://localhost:8080/"
        },
        "id": "cJeQ57yrLwxF",
        "outputId": "4157226e-5383-4baf-a892-060d1044dc28"
      },
      "execution_count": null,
      "outputs": [
        {
          "output_type": "stream",
          "name": "stdout",
          "text": [
            "Perspective projection length: 1.0\n"
          ]
        }
      ]
    },
    {
      "cell_type": "markdown",
      "source": [],
      "metadata": {
        "id": "1GdhCPqKoWxb"
      }
    },
    {
      "cell_type": "code",
      "source": [
        "# prompt: Can you plot it as well?\n",
        "\n",
        "import matplotlib.pyplot as plt\n",
        "import numpy as np\n",
        "\n",
        "def get_perspective_projection_length(pt1, pt2):\n",
        "  \"\"\"\n",
        "  Calculate the perspective projection length of two points pt1 and pt2 as a function of Z.\n",
        "  The formula is x = - X/Z.\n",
        "\n",
        "  Args:\n",
        "    pt1: A tuple representing the first point (x, z).\n",
        "    pt2: A tuple representing the second point (x, z).\n",
        "\n",
        "  Returns:\n",
        "    The perspective projection length.\n",
        "  \"\"\"\n",
        "  x1, z1 = pt1\n",
        "  x2, z2 = pt2\n",
        "\n",
        "  x1_projected = -x1 / z1\n",
        "  x2_projected = -x2 / z2\n",
        "\n",
        "  return abs(x2_projected - x1_projected)\n",
        "\n",
        "\n",
        "# Example usage\n",
        "pt1 = (-5, 10)  # x, z\n",
        "pt2 = (5, 10)  # x, z\n",
        "\n",
        "length = get_perspective_projection_length(pt1, pt2)\n",
        "print(f\"Perspective projection length: {length}\")\n",
        "\n",
        "# Create a range of Z values\n",
        "z_values = np.linspace(10, 1000, 1000)\n",
        "\n",
        "# Calculate the projection length for each Z value\n",
        "lengths = []\n",
        "for z in z_values:\n",
        "  pt1_z = (-5, z)\n",
        "  pt2_z = (5, z)\n",
        "  lengths.append(get_perspective_projection_length(pt1_z, pt2_z))\n",
        "\n",
        "# Plot the results\n",
        "plt.plot(z_values, lengths)\n",
        "plt.xlabel(\"Z\")\n",
        "plt.ylabel(\"Perspective Projection Length\")\n",
        "plt.title(\"Perspective Projection Length vs. Z\")\n",
        "plt.grid(True)\n",
        "plt.show()"
      ],
      "metadata": {
        "colab": {
          "base_uri": "https://localhost:8080/",
          "height": 490
        },
        "id": "KSq4QZ0ZMki2",
        "outputId": "c74bdd75-90a7-4edc-8d1d-ce1a3f63d08e"
      },
      "execution_count": null,
      "outputs": [
        {
          "output_type": "stream",
          "name": "stdout",
          "text": [
            "Perspective projection length: 1.0\n"
          ]
        },
        {
          "output_type": "display_data",
          "data": {
            "text/plain": [
              "<Figure size 640x480 with 1 Axes>"
            ],
            "image/png": "[encoded data removed]"
          },
          "metadata": {}
        }
      ]
    },
    {
      "cell_type": "code",
      "source": [
        "\n",
        "\n"
      ],
      "metadata": {
        "id": "Y9I5ye-IMrd0"
      },
      "execution_count": null,
      "outputs": []
    }
  ]
}