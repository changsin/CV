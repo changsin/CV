{
  "nbformat": 4,
  "nbformat_minor": 0,
  "metadata": {
    "colab": {
      "provenance": [],
      "authorship_tag": "ABX9TyM5REIUwExJdkPOdfElNIMb",
      "include_colab_link": true
    },
    "kernelspec": {
      "name": "python3",
      "display_name": "Python 3"
    },
    "language_info": {
      "name": "python"
    }
  },
  "cells": [
    {
      "cell_type": "markdown",
      "metadata": {
        "id": "view-in-github",
        "colab_type": "text"
      },
      "source": [
        "<a href=\"https://colab.research.google.com/github/changsin/CV/blob/main/01_14_pixels_lens_distortion.ipynb\" target=\"_parent\"><img src=\"https://colab.research.google.com/assets/colab-badge.svg\" alt=\"Open In Colab\"/></a>"
      ]
    },
    {
      "cell_type": "markdown",
      "source": [
        "# Image formation: Pixels: lens distortion\n",
        "\n",
        "The following are exercises done for Hany Faird's [Computer Vision course](https://youtube.com/playlist?list=PLhwIOYE-ldwL6h-peJADfNm8bbO3GlKEy&si=sXmtTvaJDQb6QD20)"
      ],
      "metadata": {
        "id": "x8l5n-p5oYd1"
      }
    },
    {
      "cell_type": "markdown",
      "source": [
        "#01-14 [Image formation: pixels: lens distortion](https://www.youtube.com/watch?v=hY4Dvw2A_PI&list=PLhwIOYE-ldwL6h-peJADfNm8bbO3GlKEy&index=14).\n",
        "\n"
      ],
      "metadata": {
        "id": "0IfcOP2LtZlA"
      }
    },
    {
      "cell_type": "code",
      "source": [
        "!pip install opencv-python"
      ],
      "metadata": {
        "colab": {
          "base_uri": "https://localhost:8080/"
        },
        "id": "M9KHqtlaptxx",
        "outputId": "187befbe-d7f4-4d28-aa24-fa0fd819f162"
      },
      "execution_count": null,
      "outputs": [
        {
          "output_type": "stream",
          "name": "stdout",
          "text": [
            "Requirement already satisfied: opencv-python in /usr/local/lib/python3.10/dist-packages (4.10.0.84)\n",
            "Requirement already satisfied: numpy>=1.21.2 in /usr/local/lib/python3.10/dist-packages (from opencv-python) (1.26.4)\n"
          ]
        }
      ]
    },
    {
      "cell_type": "code",
      "source": [],
      "metadata": {
        "colab": {
          "base_uri": "https://localhost:8080/"
        },
        "id": "lFsuO5MVbaLt",
        "outputId": "32d882ce-8974-4fea-86c8-5acc12afca04"
      },
      "execution_count": null,
      "outputs": [
        {
          "output_type": "stream",
          "name": "stdout",
          "text": [
            "\u001b[31mERROR: XMLRPC request failed [code: -32500]\n",
            "RuntimeError: PyPI no longer supports 'pip search' (or XML-RPC search). Please use https://pypi.org/search (via a browser) instead. See https://warehouse.pypa.io/api-reference/xml-rpc.html#deprecated-methods for more information.\u001b[0m\u001b[31m\n",
            "\u001b[0m"
          ]
        }
      ]
    },
    {
      "cell_type": "code",
      "source": [
        "from warping import *\n",
        "from PIL import Image\n",
        "\n",
        "import cv2\n",
        "import numpy as np\n",
        "import matplotlib.pyplot as plt\n",
        "\n",
        "# load square, grayscale image\n",
        "im = Image.open('/content/HanyFaridDistort.png')\n",
        "[ydim, xdim] = im.size\n",
        "mid = round(max(xdim,ydim)/2)\n",
        "\n",
        "# define sampling lattices\n",
        "n = 100 # lattice sampling\n",
        "dst = gridify(shape_to_rect(im.size), n, n) # destination grid\n",
        "src = dst # source grid\n",
        "\n",
        "# define new sampling lattice (src)\n",
        "k = 0.0000005 # estimated lens distortion\n",
        "dst = dst - mid # put image center at (0,0)\n",
        "\n",
        "#############################\n",
        "# you code here -- define src\n",
        "for i in range(n+1):\n",
        "  for j in range(n+1):\n",
        "    x = dst[i,j,0]\n",
        "    y = dst[i,j,1]\n",
        "    r = np.sqrt(x**2 + y**2)\n",
        "    src[i,j,0] = x*(1+k*r**2)\n",
        "    src[i,j,1] = y*(1+k*r**2)\n",
        "#############################\n",
        "\n",
        "dst = dst + mid # re-center\n",
        "dst = dst.astype(int) # convert to integers\n",
        "src = src + mid # re-center\n",
        "src = src.astype(int) # convert to integers\n",
        "\n",
        "# warp image\n",
        "mesh = grid_to_mesh(src, dst)\n",
        "imt = im.transform(im.size, Image.MESH, mesh)\n",
        "plt.figure(figsize=(ydim/72,xdim/72))\n",
        "plt.subplot(1,2,1)\n",
        "plt.imshow(im, cmap='gray')\n",
        "plt.subplot(1,2,2)\n",
        "plt.imshow(imt, cmap='gray')\n",
        "plt.show()"
      ],
      "metadata": {
        "colab": {
          "base_uri": "https://localhost:8080/",
          "height": 393
        },
        "id": "KSq4QZ0ZMki2",
        "outputId": "0264d744-5037-4d99-f86b-445a73351b6e"
      },
      "execution_count": null,
      "outputs": [
        {
          "output_type": "error",
          "ename": "ModuleNotFoundError",
          "evalue": "No module named 'warping'",
          "traceback": [
            "\u001b[0;31m---------------------------------------------------------------------------\u001b[0m",
            "\u001b[0;31mModuleNotFoundError\u001b[0m                       Traceback (most recent call last)",
            "\u001b[0;32m<ipython-input-9-af81087835a7>\u001b[0m in \u001b[0;36m<cell line: 1>\u001b[0;34m()\u001b[0m\n\u001b[0;32m----> 1\u001b[0;31m \u001b[0;32mfrom\u001b[0m \u001b[0mwarping\u001b[0m \u001b[0;32mimport\u001b[0m \u001b[0;34m*\u001b[0m\u001b[0;34m\u001b[0m\u001b[0;34m\u001b[0m\u001b[0m\n\u001b[0m\u001b[1;32m      2\u001b[0m \u001b[0;32mfrom\u001b[0m \u001b[0mPIL\u001b[0m \u001b[0;32mimport\u001b[0m \u001b[0mImage\u001b[0m\u001b[0;34m\u001b[0m\u001b[0;34m\u001b[0m\u001b[0m\n\u001b[1;32m      3\u001b[0m \u001b[0;34m\u001b[0m\u001b[0m\n\u001b[1;32m      4\u001b[0m \u001b[0;32mimport\u001b[0m \u001b[0mcv2\u001b[0m\u001b[0;34m\u001b[0m\u001b[0;34m\u001b[0m\u001b[0m\n\u001b[1;32m      5\u001b[0m \u001b[0;32mimport\u001b[0m \u001b[0mnumpy\u001b[0m \u001b[0;32mas\u001b[0m \u001b[0mnp\u001b[0m\u001b[0;34m\u001b[0m\u001b[0;34m\u001b[0m\u001b[0m\n",
            "\u001b[0;31mModuleNotFoundError\u001b[0m: No module named 'warping'",
            "",
            "\u001b[0;31m---------------------------------------------------------------------------\u001b[0;32m\nNOTE: If your import is failing due to a missing package, you can\nmanually install dependencies using either !pip or !apt.\n\nTo view examples of installing some common dependencies, click the\n\"Open Examples\" button below.\n\u001b[0;31m---------------------------------------------------------------------------\u001b[0m\n"
          ],
          "errorDetails": {
            "actions": [
              {
                "action": "open_url",
                "actionText": "Open Examples",
                "url": "/notebooks/snippets/importing_libraries.ipynb"
              }
            ]
          }
        }
      ]
    },
    {
      "cell_type": "code",
      "source": [],
      "metadata": {
        "id": "rjEiEPp-fTX-"
      },
      "execution_count": null,
      "outputs": []
    }
  ]
}