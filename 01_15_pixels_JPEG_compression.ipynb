{
  "nbformat": 4,
  "nbformat_minor": 0,
  "metadata": {
    "colab": {
      "provenance": [],
      "authorship_tag": "ABX9TyOGqhqvsh31lceo3+Wylidk",
      "include_colab_link": true
    },
    "kernelspec": {
      "name": "python3",
      "display_name": "Python 3"
    },
    "language_info": {
      "name": "python"
    }
  },
  "cells": [
    {
      "cell_type": "markdown",
      "metadata": {
        "id": "view-in-github",
        "colab_type": "text"
      },
      "source": [
        "<a href=\"https://colab.research.google.com/github/changsin/CV/blob/main/01_15_pixels_JPEG_compression.ipynb\" target=\"_parent\"><img src=\"https://colab.research.google.com/assets/colab-badge.svg\" alt=\"Open In Colab\"/></a>"
      ]
    },
    {
      "cell_type": "markdown",
      "source": [
        "# Image formation: Pixels: JPEG compression\n",
        "\n",
        "The following are exercises done for Hany Faird's [Computer Vision course](https://youtube.com/playlist?list=PLhwIOYE-ldwL6h-peJADfNm8bbO3GlKEy&si=sXmtTvaJDQb6QD20)"
      ],
      "metadata": {
        "id": "x8l5n-p5oYd1"
      }
    },
    {
      "cell_type": "markdown",
      "source": [
        "#01-15 [Image formation: pixels: JPEG compression](https://youtu.be/Um4OU7Jr3Sw?si=cewN_2fNq3mGgqWI).\n",
        "Write a Python function that takes as input an 8x8 numpy array of random pixels and a 8x8 numpy array of quantization values, and returns the quantized 8x8 DCT coefficients\n",
        "\n"
      ],
      "metadata": {
        "id": "0IfcOP2LtZlA"
      }
    },
    {
      "cell_type": "code",
      "source": [
        "import numpy as np\n",
        "\n",
        "# input:  B: 8x8 image-pixel block\n",
        "#         Q: 8x8 quantization (integer-valued)\n",
        "# output: D: 8x8 block-DCT\n",
        "\n",
        "def dct2(B, Q):\n",
        "  D = np.zeros((8,8)) # initialize\n",
        "  y,x = np.meshgrid(np.arange(1,9,1), np.arange(1,9,1))\n",
        "  for i in range(1,9):\n",
        "    for j in range(1,9):\n",
        "      ai = np.sqrt(1/8) if i == 1 else np.sqrt(2/8)\n",
        "      aj = np.sqrt(1/8) if j == 1 else np.sqrt(2/8)\n",
        "      D[i-1,j-1] = ai * aj * np.sum( np.sum(B * np.cos(np.pi*(2*x-1)*(i-1)/16) * np.cos(np.pi*(x*y-1)*(j-1)/16)) )\n",
        "\n",
        "  return( np.array( D/Q, dtype=int) ) #quantize\n",
        "\n",
        "B = 255*np.random.rand(8,8) # image block\n",
        "Q = 2*np.ones((8,8)) # quantization table\n",
        "dct2(B,Q)"
      ],
      "metadata": {
        "colab": {
          "base_uri": "https://localhost:8080/"
        },
        "id": "KSq4QZ0ZMki2",
        "outputId": "3c8fdff7-8900-4cea-e4ac-4beea0f33cfe"
      },
      "execution_count": null,
      "outputs": [
        {
          "output_type": "execute_result",
          "data": {
            "text/plain": [
              "array([[ 463,   45,  -19,  -30,   21,  -40,  -33,   25],\n",
              "       [  10,   79,    4,   50, -148,   35,   15,    0],\n",
              "       [  20,   55,   32,  -67,   76,   -3,   72,  -54],\n",
              "       [ -71,  128,   40,  -41, -121,  -69,  -13,   19],\n",
              "       [   7,   69,   53,  -28,   68,   75,   12,  -20],\n",
              "       [ -12,   45,  -25,  -18,  -24,   24,   67,   57],\n",
              "       [  31,  -50,  -27,  -22,   79,  -45,  -51,   42],\n",
              "       [ -18,  -71,  -36,   14,    9,   47, -101,   48]])"
            ]
          },
          "metadata": {},
          "execution_count": 1
        }
      ]
    },
    {
      "cell_type": "code",
      "source": [],
      "metadata": {
        "id": "rjEiEPp-fTX-"
      },
      "execution_count": null,
      "outputs": []
    }
  ]
}